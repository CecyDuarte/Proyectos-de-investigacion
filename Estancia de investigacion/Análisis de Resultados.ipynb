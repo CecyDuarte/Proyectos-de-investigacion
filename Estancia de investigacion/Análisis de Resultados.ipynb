{
 "cells": [
  {
   "cell_type": "markdown",
   "metadata": {},
   "source": [
    "# Cambio de hábitos alimentcios y actividad física. "
   ]
  },
  {
   "cell_type": "markdown",
   "metadata": {},
   "source": [
    "## Hipótesis:\n",
    "* Debido al confinamiento implementado durante la pandemia ocasionada por el COVID 19, los alumnos de séptimo a noveno semestre de la licenciatura en actuaría de FCFM han cambiado sus hábitos alimenticios o de actividad física."
   ]
  },
  {
   "cell_type": "code",
   "execution_count": 1,
   "metadata": {},
   "outputs": [],
   "source": [
    "import numpy as np\n",
    "import pandas as pd\n",
    "import seaborn as sns\n",
    "import matplotlib as mpl\n",
    "import matplotlib.pyplot as plt"
   ]
  },
  {
   "cell_type": "markdown",
   "metadata": {},
   "source": [
    "Renombre y limpieza"
   ]
  },
  {
   "cell_type": "code",
   "execution_count": 2,
   "metadata": {},
   "outputs": [],
   "source": [
    "df_data = pd.read_csv(\"data.csv\")"
   ]
  },
  {
   "cell_type": "code",
   "execution_count": 3,
   "metadata": {},
   "outputs": [],
   "source": [
    "df_data.drop('Correo electrónico', inplace=True, axis=1)\n",
    "df_data.drop('Nombre', inplace=True, axis=1)\n",
    "df_data.drop('Hora de inicio', inplace=True, axis=1)\n",
    "df_data.drop('Hora de finalización', inplace=True, axis=1)"
   ]
  },
  {
   "cell_type": "code",
   "execution_count": 4,
   "metadata": {},
   "outputs": [],
   "source": [
    "df_data.columns = ['id', 'carrera', 'semestre', 'genero', 'a1', 'a2', 'a3', 'a4', 'a5', 'a6', 'a7', 'a8', 'a9', 'a10', 'b1', 'b2', 'b3', 'b4', 'b5', 'b6']"
   ]
  },
  {
   "cell_type": "code",
   "execution_count": 5,
   "metadata": {},
   "outputs": [
    {
     "data": {
      "text/html": [
       "<div>\n",
       "<style scoped>\n",
       "    .dataframe tbody tr th:only-of-type {\n",
       "        vertical-align: middle;\n",
       "    }\n",
       "\n",
       "    .dataframe tbody tr th {\n",
       "        vertical-align: top;\n",
       "    }\n",
       "\n",
       "    .dataframe thead th {\n",
       "        text-align: right;\n",
       "    }\n",
       "</style>\n",
       "<table border=\"1\" class=\"dataframe\">\n",
       "  <thead>\n",
       "    <tr style=\"text-align: right;\">\n",
       "      <th></th>\n",
       "      <th>id</th>\n",
       "      <th>carrera</th>\n",
       "      <th>semestre</th>\n",
       "      <th>genero</th>\n",
       "      <th>a1</th>\n",
       "      <th>a2</th>\n",
       "      <th>a3</th>\n",
       "      <th>a4</th>\n",
       "      <th>a5</th>\n",
       "      <th>a6</th>\n",
       "      <th>a7</th>\n",
       "      <th>a8</th>\n",
       "      <th>a9</th>\n",
       "      <th>a10</th>\n",
       "      <th>b1</th>\n",
       "      <th>b2</th>\n",
       "      <th>b3</th>\n",
       "      <th>b4</th>\n",
       "      <th>b5</th>\n",
       "      <th>b6</th>\n",
       "    </tr>\n",
       "  </thead>\n",
       "  <tbody>\n",
       "    <tr>\n",
       "      <th>0</th>\n",
       "      <td>1</td>\n",
       "      <td>Si</td>\n",
       "      <td>9no semestre</td>\n",
       "      <td>Masculino</td>\n",
       "      <td>De acuerdo</td>\n",
       "      <td>Ni en desacuerdo ni de acuerdo</td>\n",
       "      <td>Ni en desacuerdo ni de acuerdo</td>\n",
       "      <td>De acuerdo</td>\n",
       "      <td>De acuerdo</td>\n",
       "      <td>De acuerdo</td>\n",
       "      <td>De acuerdo</td>\n",
       "      <td>De acuerdo</td>\n",
       "      <td>Desacuerdo</td>\n",
       "      <td>Consumo menos comida saludable, y más comida r...</td>\n",
       "      <td>Ni desacuerdo ni de acuerdo</td>\n",
       "      <td>Hago el mismo ejercicio/No hago ni hacía ejerc...</td>\n",
       "      <td>Ha aumentado</td>\n",
       "      <td>De acuerdo</td>\n",
       "      <td>Ni en desacuerdo ni de acuerdo</td>\n",
       "      <td>Ni en desacuerdo ni de acuerdo</td>\n",
       "    </tr>\n",
       "    <tr>\n",
       "      <th>1</th>\n",
       "      <td>2</td>\n",
       "      <td>Si</td>\n",
       "      <td>9no semestre</td>\n",
       "      <td>Femenino</td>\n",
       "      <td>De acuerdo</td>\n",
       "      <td>Ni en desacuerdo ni de acuerdo</td>\n",
       "      <td>Desacuerdo</td>\n",
       "      <td>Desacuerdo</td>\n",
       "      <td>Desacuerdo</td>\n",
       "      <td>Desacuerdo</td>\n",
       "      <td>Desacuerdo</td>\n",
       "      <td>De acuerdo</td>\n",
       "      <td>De acuerdo</td>\n",
       "      <td>Consumo más comida saludable, y menos comida r...</td>\n",
       "      <td>De acuerdo</td>\n",
       "      <td>Hago el mismo ejercicio/No hago ni hacía ejerc...</td>\n",
       "      <td>Ha aumentado</td>\n",
       "      <td>De acuerdo</td>\n",
       "      <td>De acuerdo</td>\n",
       "      <td>De acuerdo</td>\n",
       "    </tr>\n",
       "    <tr>\n",
       "      <th>2</th>\n",
       "      <td>3</td>\n",
       "      <td>Si</td>\n",
       "      <td>7mo semestre</td>\n",
       "      <td>Masculino</td>\n",
       "      <td>Desacuerdo</td>\n",
       "      <td>De acuerdo</td>\n",
       "      <td>De acuerdo</td>\n",
       "      <td>De acuerdo</td>\n",
       "      <td>De acuerdo</td>\n",
       "      <td>De acuerdo</td>\n",
       "      <td>De acuerdo</td>\n",
       "      <td>Ni en desacuerdo ni de acuerdo</td>\n",
       "      <td>Desacuerdo</td>\n",
       "      <td>Consumo menos comida saludable, y más comida r...</td>\n",
       "      <td>Ni desacuerdo ni de acuerdo</td>\n",
       "      <td>Hago el mismo ejercicio/No hago ni hacía ejerc...</td>\n",
       "      <td>Ha aumentado</td>\n",
       "      <td>De acuerdo</td>\n",
       "      <td>Ni en desacuerdo ni de acuerdo</td>\n",
       "      <td>Ni en desacuerdo ni de acuerdo</td>\n",
       "    </tr>\n",
       "    <tr>\n",
       "      <th>3</th>\n",
       "      <td>4</td>\n",
       "      <td>Si</td>\n",
       "      <td>7mo semestre</td>\n",
       "      <td>Femenino</td>\n",
       "      <td>De acuerdo</td>\n",
       "      <td>Ni en desacuerdo ni de acuerdo</td>\n",
       "      <td>De acuerdo</td>\n",
       "      <td>De acuerdo</td>\n",
       "      <td>De acuerdo</td>\n",
       "      <td>De acuerdo</td>\n",
       "      <td>De acuerdo</td>\n",
       "      <td>Desacuerdo</td>\n",
       "      <td>Desacuerdo</td>\n",
       "      <td>Consumo menos comida saludable, y más comida r...</td>\n",
       "      <td>Desacuerdo</td>\n",
       "      <td>Hago el mismo ejercicio/No hago ni hacía ejerc...</td>\n",
       "      <td>Ha aumentado</td>\n",
       "      <td>De acuerdo</td>\n",
       "      <td>Ni en desacuerdo ni de acuerdo</td>\n",
       "      <td>Desacuerdo</td>\n",
       "    </tr>\n",
       "    <tr>\n",
       "      <th>4</th>\n",
       "      <td>5</td>\n",
       "      <td>Si</td>\n",
       "      <td>8vo semestre</td>\n",
       "      <td>Masculino</td>\n",
       "      <td>De acuerdo</td>\n",
       "      <td>De acuerdo</td>\n",
       "      <td>Ni en desacuerdo ni de acuerdo</td>\n",
       "      <td>De acuerdo</td>\n",
       "      <td>Ni en desacuerdo ni de acuerdo</td>\n",
       "      <td>De acuerdo</td>\n",
       "      <td>De acuerdo</td>\n",
       "      <td>Ni en desacuerdo ni de acuerdo</td>\n",
       "      <td>Ni en desacuerdo ni de acuerdo</td>\n",
       "      <td>No ha cambiado mi alimentación</td>\n",
       "      <td>Ni desacuerdo ni de acuerdo</td>\n",
       "      <td>Hago el mismo ejercicio/No hago ni hacía ejerc...</td>\n",
       "      <td>Es el mismo</td>\n",
       "      <td>De acuerdo</td>\n",
       "      <td>Ni en desacuerdo ni de acuerdo</td>\n",
       "      <td>De acuerdo</td>\n",
       "    </tr>\n",
       "  </tbody>\n",
       "</table>\n",
       "</div>"
      ],
      "text/plain": [
       "   id carrera      semestre     genero          a1  \\\n",
       "0   1      Si  9no semestre  Masculino  De acuerdo   \n",
       "1   2      Si  9no semestre   Femenino  De acuerdo   \n",
       "2   3      Si  7mo semestre  Masculino  Desacuerdo   \n",
       "3   4      Si  7mo semestre   Femenino  De acuerdo   \n",
       "4   5      Si  8vo semestre  Masculino  De acuerdo   \n",
       "\n",
       "                               a2                              a3          a4  \\\n",
       "0  Ni en desacuerdo ni de acuerdo  Ni en desacuerdo ni de acuerdo  De acuerdo   \n",
       "1  Ni en desacuerdo ni de acuerdo                      Desacuerdo  Desacuerdo   \n",
       "2                      De acuerdo                      De acuerdo  De acuerdo   \n",
       "3  Ni en desacuerdo ni de acuerdo                      De acuerdo  De acuerdo   \n",
       "4                      De acuerdo  Ni en desacuerdo ni de acuerdo  De acuerdo   \n",
       "\n",
       "                               a5          a6          a7  \\\n",
       "0                      De acuerdo  De acuerdo  De acuerdo   \n",
       "1                      Desacuerdo  Desacuerdo  Desacuerdo   \n",
       "2                      De acuerdo  De acuerdo  De acuerdo   \n",
       "3                      De acuerdo  De acuerdo  De acuerdo   \n",
       "4  Ni en desacuerdo ni de acuerdo  De acuerdo  De acuerdo   \n",
       "\n",
       "                               a8                              a9  \\\n",
       "0                      De acuerdo                      Desacuerdo   \n",
       "1                      De acuerdo                      De acuerdo   \n",
       "2  Ni en desacuerdo ni de acuerdo                      Desacuerdo   \n",
       "3                      Desacuerdo                      Desacuerdo   \n",
       "4  Ni en desacuerdo ni de acuerdo  Ni en desacuerdo ni de acuerdo   \n",
       "\n",
       "                                                 a10  \\\n",
       "0  Consumo menos comida saludable, y más comida r...   \n",
       "1  Consumo más comida saludable, y menos comida r...   \n",
       "2  Consumo menos comida saludable, y más comida r...   \n",
       "3  Consumo menos comida saludable, y más comida r...   \n",
       "4                   No ha cambiado mi alimentación     \n",
       "\n",
       "                            b1  \\\n",
       "0  Ni desacuerdo ni de acuerdo   \n",
       "1                   De acuerdo   \n",
       "2  Ni desacuerdo ni de acuerdo   \n",
       "3                   Desacuerdo   \n",
       "4  Ni desacuerdo ni de acuerdo   \n",
       "\n",
       "                                                  b2            b3  \\\n",
       "0  Hago el mismo ejercicio/No hago ni hacía ejerc...  Ha aumentado   \n",
       "1  Hago el mismo ejercicio/No hago ni hacía ejerc...  Ha aumentado   \n",
       "2  Hago el mismo ejercicio/No hago ni hacía ejerc...  Ha aumentado   \n",
       "3  Hago el mismo ejercicio/No hago ni hacía ejerc...  Ha aumentado   \n",
       "4  Hago el mismo ejercicio/No hago ni hacía ejerc...   Es el mismo   \n",
       "\n",
       "           b4                              b5                              b6  \n",
       "0  De acuerdo  Ni en desacuerdo ni de acuerdo  Ni en desacuerdo ni de acuerdo  \n",
       "1  De acuerdo                      De acuerdo                      De acuerdo  \n",
       "2  De acuerdo  Ni en desacuerdo ni de acuerdo  Ni en desacuerdo ni de acuerdo  \n",
       "3  De acuerdo  Ni en desacuerdo ni de acuerdo                      Desacuerdo  \n",
       "4  De acuerdo  Ni en desacuerdo ni de acuerdo                      De acuerdo  "
      ]
     },
     "execution_count": 5,
     "metadata": {},
     "output_type": "execute_result"
    }
   ],
   "source": [
    "df_data.head()"
   ]
  },
  {
   "cell_type": "markdown",
   "metadata": {},
   "source": [
    "Filtro de encuestas"
   ]
  },
  {
   "cell_type": "code",
   "execution_count": 6,
   "metadata": {},
   "outputs": [
    {
     "data": {
      "text/plain": [
       "(230, 20)"
      ]
     },
     "execution_count": 6,
     "metadata": {},
     "output_type": "execute_result"
    }
   ],
   "source": [
    "df_data.shape"
   ]
  },
  {
   "cell_type": "code",
   "execution_count": 7,
   "metadata": {},
   "outputs": [],
   "source": [
    "df_data = df_data.loc[(df_data['carrera'] != 'No')]\n",
    "df_data = df_data.loc[(df_data['semestre'] != 'Otro')]"
   ]
  },
  {
   "cell_type": "code",
   "execution_count": 8,
   "metadata": {},
   "outputs": [
    {
     "data": {
      "text/plain": [
       "(195, 20)"
      ]
     },
     "execution_count": 8,
     "metadata": {},
     "output_type": "execute_result"
    }
   ],
   "source": [
    "df_data.shape"
   ]
  },
  {
   "cell_type": "markdown",
   "metadata": {},
   "source": [
    "## Valores numéricos"
   ]
  },
  {
   "cell_type": "markdown",
   "metadata": {},
   "source": [
    "### Indicadores.\n",
    "1. Alimentación.\n",
    "    - Items\n",
    "        * a1: Cambios de horarios\n",
    "        * a2: Ansiedad\n",
    "        * a3: Apetito\n",
    "        * a4: Cómida rápida\n",
    "        * a5: Snacks\n",
    "        * a6: Bebidas azucaradas\n",
    "        * a7: Saltar comidas\n",
    "        * a8: Más tiempo para comidas\n",
    "        * a9: Preocupación de alimentación\n",
    "        * a10: Cambio de alimentación\n",
    "2. Actividad física.\n",
    "  - Items\n",
    "        * b1: Cambios de rutina\n",
    "        * b2: Cantidad de ejercicio cambio\n",
    "        * b3: Estar sentado\n",
    "        * b4: Tiempo libre para hacer ejercicio\n",
    "        * b5: Motivación para hacer ejercicio\n",
    "        * b6: Preocupación por hacer ejercicico"
   ]
  },
  {
   "cell_type": "code",
   "execution_count": 9,
   "metadata": {},
   "outputs": [],
   "source": [
    "df_numeric = df_data\n",
    "df_numeric['a3'].replace(to_replace = list(df_data['a1'].unique()), value = [3,1,2], inplace = True)\n",
    "df_numeric['a4'].replace(to_replace = list(df_data['a1'].unique()), value = [3,1,2], inplace = True)\n",
    "df_numeric['a5'].replace(to_replace = list(df_data['a1'].unique()), value = [3,1,2], inplace = True)\n",
    "df_numeric['a6'].replace(to_replace = list(df_data['a1'].unique()), value = [3,1,2], inplace = True)\n",
    "df_numeric['a7'].replace(to_replace = list(df_data['a1'].unique()), value = [3,1,2], inplace = True)\n",
    "df_numeric['a9'].replace(to_replace = list(df_data['a1'].unique()), value = [1,3,2], inplace = True)\n",
    "df_numeric['b5'].replace(to_replace = list(df_data['a1'].unique()), value = [1,3,2], inplace = True)\n",
    "df_numeric['b6'].replace(to_replace = list(df_data['a1'].unique()), value = [1,3,2], inplace = True)\n",
    "df_numeric['a10'].replace(to_replace = list(df_data['a10'].unique()), value = [3,1,2], inplace = True)\n",
    "df_numeric.replace(to_replace = list(df_data['b2'].unique()), value = [2,3,1], inplace = True)\n",
    "df_numeric.replace(to_replace = list(df_data['b3'].unique()), value = [3,2,1], inplace = True)"
   ]
  },
  {
   "cell_type": "code",
   "execution_count": 10,
   "metadata": {
    "scrolled": false
   },
   "outputs": [
    {
     "data": {
      "text/html": [
       "<div>\n",
       "<style scoped>\n",
       "    .dataframe tbody tr th:only-of-type {\n",
       "        vertical-align: middle;\n",
       "    }\n",
       "\n",
       "    .dataframe tbody tr th {\n",
       "        vertical-align: top;\n",
       "    }\n",
       "\n",
       "    .dataframe thead th {\n",
       "        text-align: right;\n",
       "    }\n",
       "</style>\n",
       "<table border=\"1\" class=\"dataframe\">\n",
       "  <thead>\n",
       "    <tr style=\"text-align: right;\">\n",
       "      <th></th>\n",
       "      <th>id</th>\n",
       "      <th>carrera</th>\n",
       "      <th>semestre</th>\n",
       "      <th>genero</th>\n",
       "      <th>a1</th>\n",
       "      <th>a2</th>\n",
       "      <th>a3</th>\n",
       "      <th>a4</th>\n",
       "      <th>a5</th>\n",
       "      <th>a6</th>\n",
       "      <th>a7</th>\n",
       "      <th>a8</th>\n",
       "      <th>a9</th>\n",
       "      <th>a10</th>\n",
       "      <th>b1</th>\n",
       "      <th>b2</th>\n",
       "      <th>b3</th>\n",
       "      <th>b4</th>\n",
       "      <th>b5</th>\n",
       "      <th>b6</th>\n",
       "    </tr>\n",
       "  </thead>\n",
       "  <tbody>\n",
       "    <tr>\n",
       "      <th>0</th>\n",
       "      <td>1</td>\n",
       "      <td>Si</td>\n",
       "      <td>9no semestre</td>\n",
       "      <td>Masculino</td>\n",
       "      <td>De acuerdo</td>\n",
       "      <td>Ni en desacuerdo ni de acuerdo</td>\n",
       "      <td>2</td>\n",
       "      <td>3</td>\n",
       "      <td>3</td>\n",
       "      <td>3</td>\n",
       "      <td>3</td>\n",
       "      <td>De acuerdo</td>\n",
       "      <td>3</td>\n",
       "      <td>3</td>\n",
       "      <td>Ni desacuerdo ni de acuerdo</td>\n",
       "      <td>2</td>\n",
       "      <td>3</td>\n",
       "      <td>De acuerdo</td>\n",
       "      <td>2</td>\n",
       "      <td>2</td>\n",
       "    </tr>\n",
       "    <tr>\n",
       "      <th>1</th>\n",
       "      <td>2</td>\n",
       "      <td>Si</td>\n",
       "      <td>9no semestre</td>\n",
       "      <td>Femenino</td>\n",
       "      <td>De acuerdo</td>\n",
       "      <td>Ni en desacuerdo ni de acuerdo</td>\n",
       "      <td>1</td>\n",
       "      <td>1</td>\n",
       "      <td>1</td>\n",
       "      <td>1</td>\n",
       "      <td>1</td>\n",
       "      <td>De acuerdo</td>\n",
       "      <td>1</td>\n",
       "      <td>1</td>\n",
       "      <td>De acuerdo</td>\n",
       "      <td>2</td>\n",
       "      <td>3</td>\n",
       "      <td>De acuerdo</td>\n",
       "      <td>1</td>\n",
       "      <td>1</td>\n",
       "    </tr>\n",
       "    <tr>\n",
       "      <th>2</th>\n",
       "      <td>3</td>\n",
       "      <td>Si</td>\n",
       "      <td>7mo semestre</td>\n",
       "      <td>Masculino</td>\n",
       "      <td>Desacuerdo</td>\n",
       "      <td>De acuerdo</td>\n",
       "      <td>3</td>\n",
       "      <td>3</td>\n",
       "      <td>3</td>\n",
       "      <td>3</td>\n",
       "      <td>3</td>\n",
       "      <td>Ni en desacuerdo ni de acuerdo</td>\n",
       "      <td>3</td>\n",
       "      <td>3</td>\n",
       "      <td>Ni desacuerdo ni de acuerdo</td>\n",
       "      <td>2</td>\n",
       "      <td>3</td>\n",
       "      <td>De acuerdo</td>\n",
       "      <td>2</td>\n",
       "      <td>2</td>\n",
       "    </tr>\n",
       "    <tr>\n",
       "      <th>3</th>\n",
       "      <td>4</td>\n",
       "      <td>Si</td>\n",
       "      <td>7mo semestre</td>\n",
       "      <td>Femenino</td>\n",
       "      <td>De acuerdo</td>\n",
       "      <td>Ni en desacuerdo ni de acuerdo</td>\n",
       "      <td>3</td>\n",
       "      <td>3</td>\n",
       "      <td>3</td>\n",
       "      <td>3</td>\n",
       "      <td>3</td>\n",
       "      <td>Desacuerdo</td>\n",
       "      <td>3</td>\n",
       "      <td>3</td>\n",
       "      <td>Desacuerdo</td>\n",
       "      <td>2</td>\n",
       "      <td>3</td>\n",
       "      <td>De acuerdo</td>\n",
       "      <td>2</td>\n",
       "      <td>3</td>\n",
       "    </tr>\n",
       "    <tr>\n",
       "      <th>4</th>\n",
       "      <td>5</td>\n",
       "      <td>Si</td>\n",
       "      <td>8vo semestre</td>\n",
       "      <td>Masculino</td>\n",
       "      <td>De acuerdo</td>\n",
       "      <td>De acuerdo</td>\n",
       "      <td>2</td>\n",
       "      <td>3</td>\n",
       "      <td>2</td>\n",
       "      <td>3</td>\n",
       "      <td>3</td>\n",
       "      <td>Ni en desacuerdo ni de acuerdo</td>\n",
       "      <td>2</td>\n",
       "      <td>2</td>\n",
       "      <td>Ni desacuerdo ni de acuerdo</td>\n",
       "      <td>2</td>\n",
       "      <td>2</td>\n",
       "      <td>De acuerdo</td>\n",
       "      <td>2</td>\n",
       "      <td>1</td>\n",
       "    </tr>\n",
       "    <tr>\n",
       "      <th>...</th>\n",
       "      <td>...</td>\n",
       "      <td>...</td>\n",
       "      <td>...</td>\n",
       "      <td>...</td>\n",
       "      <td>...</td>\n",
       "      <td>...</td>\n",
       "      <td>...</td>\n",
       "      <td>...</td>\n",
       "      <td>...</td>\n",
       "      <td>...</td>\n",
       "      <td>...</td>\n",
       "      <td>...</td>\n",
       "      <td>...</td>\n",
       "      <td>...</td>\n",
       "      <td>...</td>\n",
       "      <td>...</td>\n",
       "      <td>...</td>\n",
       "      <td>...</td>\n",
       "      <td>...</td>\n",
       "      <td>...</td>\n",
       "    </tr>\n",
       "    <tr>\n",
       "      <th>225</th>\n",
       "      <td>226</td>\n",
       "      <td>Si</td>\n",
       "      <td>7mo semestre</td>\n",
       "      <td>Masculino</td>\n",
       "      <td>De acuerdo</td>\n",
       "      <td>De acuerdo</td>\n",
       "      <td>1</td>\n",
       "      <td>1</td>\n",
       "      <td>1</td>\n",
       "      <td>1</td>\n",
       "      <td>3</td>\n",
       "      <td>De acuerdo</td>\n",
       "      <td>1</td>\n",
       "      <td>1</td>\n",
       "      <td>De acuerdo</td>\n",
       "      <td>1</td>\n",
       "      <td>3</td>\n",
       "      <td>De acuerdo</td>\n",
       "      <td>1</td>\n",
       "      <td>1</td>\n",
       "    </tr>\n",
       "    <tr>\n",
       "      <th>226</th>\n",
       "      <td>227</td>\n",
       "      <td>Si</td>\n",
       "      <td>9no semestre</td>\n",
       "      <td>Masculino</td>\n",
       "      <td>Ni en desacuerdo ni de acuerdo</td>\n",
       "      <td>De acuerdo</td>\n",
       "      <td>2</td>\n",
       "      <td>1</td>\n",
       "      <td>1</td>\n",
       "      <td>1</td>\n",
       "      <td>2</td>\n",
       "      <td>De acuerdo</td>\n",
       "      <td>2</td>\n",
       "      <td>1</td>\n",
       "      <td>De acuerdo</td>\n",
       "      <td>1</td>\n",
       "      <td>3</td>\n",
       "      <td>Ni en desacuerdo ni de acuerdo</td>\n",
       "      <td>1</td>\n",
       "      <td>1</td>\n",
       "    </tr>\n",
       "    <tr>\n",
       "      <th>227</th>\n",
       "      <td>228</td>\n",
       "      <td>Si</td>\n",
       "      <td>9no semestre</td>\n",
       "      <td>Femenino</td>\n",
       "      <td>Desacuerdo</td>\n",
       "      <td>Desacuerdo</td>\n",
       "      <td>2</td>\n",
       "      <td>3</td>\n",
       "      <td>3</td>\n",
       "      <td>3</td>\n",
       "      <td>1</td>\n",
       "      <td>De acuerdo</td>\n",
       "      <td>2</td>\n",
       "      <td>1</td>\n",
       "      <td>Desacuerdo</td>\n",
       "      <td>2</td>\n",
       "      <td>3</td>\n",
       "      <td>Ni en desacuerdo ni de acuerdo</td>\n",
       "      <td>2</td>\n",
       "      <td>2</td>\n",
       "    </tr>\n",
       "    <tr>\n",
       "      <th>228</th>\n",
       "      <td>229</td>\n",
       "      <td>Si</td>\n",
       "      <td>9no semestre</td>\n",
       "      <td>Femenino</td>\n",
       "      <td>Desacuerdo</td>\n",
       "      <td>Ni en desacuerdo ni de acuerdo</td>\n",
       "      <td>3</td>\n",
       "      <td>3</td>\n",
       "      <td>3</td>\n",
       "      <td>3</td>\n",
       "      <td>3</td>\n",
       "      <td>De acuerdo</td>\n",
       "      <td>1</td>\n",
       "      <td>3</td>\n",
       "      <td>De acuerdo</td>\n",
       "      <td>1</td>\n",
       "      <td>3</td>\n",
       "      <td>De acuerdo</td>\n",
       "      <td>1</td>\n",
       "      <td>1</td>\n",
       "    </tr>\n",
       "    <tr>\n",
       "      <th>229</th>\n",
       "      <td>230</td>\n",
       "      <td>Si</td>\n",
       "      <td>7mo semestre</td>\n",
       "      <td>Femenino</td>\n",
       "      <td>De acuerdo</td>\n",
       "      <td>De acuerdo</td>\n",
       "      <td>1</td>\n",
       "      <td>3</td>\n",
       "      <td>3</td>\n",
       "      <td>3</td>\n",
       "      <td>3</td>\n",
       "      <td>De acuerdo</td>\n",
       "      <td>1</td>\n",
       "      <td>3</td>\n",
       "      <td>Desacuerdo</td>\n",
       "      <td>1</td>\n",
       "      <td>2</td>\n",
       "      <td>De acuerdo</td>\n",
       "      <td>1</td>\n",
       "      <td>1</td>\n",
       "    </tr>\n",
       "  </tbody>\n",
       "</table>\n",
       "<p>195 rows × 20 columns</p>\n",
       "</div>"
      ],
      "text/plain": [
       "      id carrera      semestre     genero                              a1  \\\n",
       "0      1      Si  9no semestre  Masculino                      De acuerdo   \n",
       "1      2      Si  9no semestre   Femenino                      De acuerdo   \n",
       "2      3      Si  7mo semestre  Masculino                      Desacuerdo   \n",
       "3      4      Si  7mo semestre   Femenino                      De acuerdo   \n",
       "4      5      Si  8vo semestre  Masculino                      De acuerdo   \n",
       "..   ...     ...           ...        ...                             ...   \n",
       "225  226      Si  7mo semestre  Masculino                      De acuerdo   \n",
       "226  227      Si  9no semestre  Masculino  Ni en desacuerdo ni de acuerdo   \n",
       "227  228      Si  9no semestre   Femenino                      Desacuerdo   \n",
       "228  229      Si  9no semestre   Femenino                      Desacuerdo   \n",
       "229  230      Si  7mo semestre   Femenino                      De acuerdo   \n",
       "\n",
       "                                 a2  a3  a4  a5  a6  a7  \\\n",
       "0    Ni en desacuerdo ni de acuerdo   2   3   3   3   3   \n",
       "1    Ni en desacuerdo ni de acuerdo   1   1   1   1   1   \n",
       "2                        De acuerdo   3   3   3   3   3   \n",
       "3    Ni en desacuerdo ni de acuerdo   3   3   3   3   3   \n",
       "4                        De acuerdo   2   3   2   3   3   \n",
       "..                              ...  ..  ..  ..  ..  ..   \n",
       "225                      De acuerdo   1   1   1   1   3   \n",
       "226                      De acuerdo   2   1   1   1   2   \n",
       "227                      Desacuerdo   2   3   3   3   1   \n",
       "228  Ni en desacuerdo ni de acuerdo   3   3   3   3   3   \n",
       "229                      De acuerdo   1   3   3   3   3   \n",
       "\n",
       "                                 a8  a9  a10                           b1  b2  \\\n",
       "0                        De acuerdo   3    3  Ni desacuerdo ni de acuerdo   2   \n",
       "1                        De acuerdo   1    1                   De acuerdo   2   \n",
       "2    Ni en desacuerdo ni de acuerdo   3    3  Ni desacuerdo ni de acuerdo   2   \n",
       "3                        Desacuerdo   3    3                   Desacuerdo   2   \n",
       "4    Ni en desacuerdo ni de acuerdo   2    2  Ni desacuerdo ni de acuerdo   2   \n",
       "..                              ...  ..  ...                          ...  ..   \n",
       "225                      De acuerdo   1    1                   De acuerdo   1   \n",
       "226                      De acuerdo   2    1                   De acuerdo   1   \n",
       "227                      De acuerdo   2    1                   Desacuerdo   2   \n",
       "228                      De acuerdo   1    3                   De acuerdo   1   \n",
       "229                      De acuerdo   1    3                   Desacuerdo   1   \n",
       "\n",
       "     b3                              b4  b5  b6  \n",
       "0     3                      De acuerdo   2   2  \n",
       "1     3                      De acuerdo   1   1  \n",
       "2     3                      De acuerdo   2   2  \n",
       "3     3                      De acuerdo   2   3  \n",
       "4     2                      De acuerdo   2   1  \n",
       "..   ..                             ...  ..  ..  \n",
       "225   3                      De acuerdo   1   1  \n",
       "226   3  Ni en desacuerdo ni de acuerdo   1   1  \n",
       "227   3  Ni en desacuerdo ni de acuerdo   2   2  \n",
       "228   3                      De acuerdo   1   1  \n",
       "229   2                      De acuerdo   1   1  \n",
       "\n",
       "[195 rows x 20 columns]"
      ]
     },
     "execution_count": 10,
     "metadata": {},
     "output_type": "execute_result"
    }
   ],
   "source": [
    "df_numeric"
   ]
  },
  {
   "cell_type": "markdown",
   "metadata": {},
   "source": [
    "### Análisis de Correlación."
   ]
  },
  {
   "cell_type": "code",
   "execution_count": 11,
   "metadata": {},
   "outputs": [],
   "source": [
    "Corr_matriz = df_numeric.corr()"
   ]
  },
  {
   "cell_type": "code",
   "execution_count": 12,
   "metadata": {},
   "outputs": [
    {
     "data": {
      "image/png": "[encoded data removed]",
      "text/plain": [
       "<Figure size 576x432 with 2 Axes>"
      ]
     },
     "metadata": {
      "needs_background": "light"
     },
     "output_type": "display_data"
    }
   ],
   "source": [
    "plt.figure(figsize=(8, 6))\n",
    "sns.heatmap(Corr_matriz, annot=True)\n",
    "plt.show()"
   ]
  },
  {
   "cell_type": "markdown",
   "metadata": {},
   "source": [
    "**Consideraciones:**\n",
    "\n",
    "* Morado obscuro: <0 Asociación entre variables negativa, o bien que hay una relación inversa entre variables.\n",
    "* Morado claro: correlación positiva débil\n",
    "* Rosa: correlación positiva débil\n",
    "* Coral: Correlación positiva\n",
    "* Naranja: correlación positiva fuerte.\n",
    "\n",
    "**Variables con correlación positiva y positiva fuerte**: a4 y a5, b5 y b6, a9 y a10\n",
    "\n",
    "**Variables con correlación positiva débil**: a3, a4 y a5, a4 y a6 con a10, a9, y b2, a9, 10 y b2 con b5 y b6.\n",
    "\n",
    "**Conclusiones:**\n",
    "\n",
    "1.\n",
    "\n",
    "2.\n",
    "\n",
    "3.\n"
   ]
  },
  {
   "cell_type": "markdown",
   "metadata": {},
   "source": [
    "## Establecimiento de criterios para análisis de cambios."
   ]
  },
  {
   "cell_type": "markdown",
   "metadata": {},
   "source": [
    "**Alimentación.**"
   ]
  },
  {
   "cell_type": "code",
   "execution_count": 13,
   "metadata": {},
   "outputs": [],
   "source": [
    "df_numeric['s1'] = 2*df_numeric['a4'] + 2*df_numeric['a5'] + 2*df_numeric['a6'] + 3*df_numeric['a9'] + 4*df_numeric['a10']"
   ]
  },
  {
   "cell_type": "code",
   "execution_count": 14,
   "metadata": {},
   "outputs": [
    {
     "data": {
      "text/plain": [
       "<AxesSubplot:xlabel='s1', ylabel='Count'>"
      ]
     },
     "execution_count": 14,
     "metadata": {},
     "output_type": "execute_result"
    },
    {
     "data": {
      "image/png": "[encoded data removed]",
      "text/plain": [
       "<Figure size 504x360 with 1 Axes>"
      ]
     },
     "metadata": {
      "needs_background": "light"
     },
     "output_type": "display_data"
    }
   ],
   "source": [
    "f, ax = plt.subplots(figsize=(7, 5))\n",
    "sns.histplot(data= df_numeric, x=\"s1\", discrete=True, color = 'purple')"
   ]
  },
  {
   "cell_type": "markdown",
   "metadata": {},
   "source": [
    "**Actividad física.**"
   ]
  },
  {
   "cell_type": "code",
   "execution_count": 15,
   "metadata": {},
   "outputs": [],
   "source": [
    "df_numeric['v1'] = 2*df_numeric['b2'] + 2*df_numeric['b3'] + 3*df_numeric['b6']"
   ]
  },
  {
   "cell_type": "code",
   "execution_count": 16,
   "metadata": {},
   "outputs": [],
   "source": [
    "df_numeric['v2'] = df_numeric['v1']"
   ]
  },
  {
   "cell_type": "code",
   "execution_count": 17,
   "metadata": {},
   "outputs": [],
   "source": [
    "df_numeric['v2'].replace(to_replace = list(range(7,22)), value = list(np.repeat(np.array([\"Positivo\", 'Neutral', \"Negativo\"]), [5,5,5], axis=0)), inplace = True)"
   ]
  },
  {
   "cell_type": "markdown",
   "metadata": {},
   "source": [
    "## Prueba de hipótesis. "
   ]
  },
  {
   "cell_type": "markdown",
   "metadata": {},
   "source": [
    "1. **Objetivo:** Analizar si hubo un cambio en los hábitos alimenticios y/ actividad física en estuadiantes\n",
    "\n",
    "    a) **Alimentación.**\n",
    "    \n",
    "    * Variables a considerar:comidas rápida (a4),snacks (a5), bebidas azucaradas (a6), preopcupación por alimentación (a9), cambio alimentación (a10)\n",
    "    \n",
    "    * Prueba: Mc Nemar, ya que puede ayudar a ver si hubo un cambio\n",
    "    \n",
    "        - H0: No hubo cambios en los hábitos alimenticios.\n",
    "        - H1: Hubo cambios en los hábitos alimenticios.\n",
    "            \n",
    "    b) **Actividad física.**\n",
    "    \n",
    "    * Variables a considerar:cantidad de ejercicio (b2), estar sentado (b3), preocupación por actividad física (b6)\n",
    "    \n",
    "    * Prueba: Mc Nemar, ya que puede ayudar a ver si hubo un cambio\n",
    "    \n",
    "        - H0: No hubo cambios en la actividad física.\n",
    "        - H1: Hubo cambios en la actividad física."
   ]
  },
  {
   "cell_type": "markdown",
   "metadata": {},
   "source": [
    "### Prueba McNemar para cambios."
   ]
  },
  {
   "cell_type": "markdown",
   "metadata": {},
   "source": [
    "**Alimentación.**"
   ]
  },
  {
   "cell_type": "code",
   "execution_count": 18,
   "metadata": {},
   "outputs": [],
   "source": [
    "tabla_s1 = [[df_numeric['s1'][(df_numeric['s1'] > 22) & (df_numeric['s1'] < 31)].count(),df_numeric['s1'][df_numeric['s1'] >= 31].count()],\n",
    "            [df_numeric['s1'][df_numeric['s1'] <= 22].count(),df_numeric['s1'][(df_numeric['s1'] > 22) & (df_numeric['s1'] < 31)].count()]]"
   ]
  },
  {
   "cell_type": "code",
   "execution_count": 19,
   "metadata": {},
   "outputs": [
    {
     "data": {
      "text/plain": [
       "[[72, 47], [76, 72]]"
      ]
     },
     "execution_count": 19,
     "metadata": {},
     "output_type": "execute_result"
    }
   ],
   "source": [
    "tabla_s1"
   ]
  },
  {
   "cell_type": "code",
   "execution_count": 20,
   "metadata": {},
   "outputs": [],
   "source": [
    "from statsmodels.stats.contingency_tables import mcnemar"
   ]
  },
  {
   "cell_type": "code",
   "execution_count": 21,
   "metadata": {},
   "outputs": [
    {
     "name": "stdout",
     "output_type": "stream",
     "text": [
      "pvalue      0.011580533836671717\n",
      "statistic   6.373983739837398\n"
     ]
    }
   ],
   "source": [
    "print(mcnemar(tabla_s1, exact=False))"
   ]
  },
  {
   "cell_type": "markdown",
   "metadata": {},
   "source": [
    "*Conclusiones:*"
   ]
  },
  {
   "cell_type": "markdown",
   "metadata": {},
   "source": [
    "P-value menor a 0.05\n",
    "\n",
    "La proporción de personas que cambiaron sus habitos despues de la pandemia es estadisticamente significantemente."
   ]
  },
  {
   "cell_type": "markdown",
   "metadata": {},
   "source": [
    "**Actividad física.**"
   ]
  },
  {
   "cell_type": "code",
   "execution_count": 22,
   "metadata": {},
   "outputs": [],
   "source": [
    "tabla_v1 = [[df_numeric['v2'][df_numeric['v2'] == 'Neutral'].count(),df_numeric['v2'][df_numeric['v2'] == 'Negativo'].count()],\n",
    "             [df_numeric['v2'][df_numeric['v2'] == 'Positivo'].count(),df_numeric['v2'][df_numeric['v2'] =='Neutral'].count()]]"
   ]
  },
  {
   "cell_type": "code",
   "execution_count": 23,
   "metadata": {},
   "outputs": [
    {
     "data": {
      "text/plain": [
       "[[82, 57], [56, 82]]"
      ]
     },
     "execution_count": 23,
     "metadata": {},
     "output_type": "execute_result"
    }
   ],
   "source": [
    "tabla_v1"
   ]
  },
  {
   "cell_type": "code",
   "execution_count": 24,
   "metadata": {},
   "outputs": [
    {
     "name": "stdout",
     "output_type": "stream",
     "text": [
      "pvalue      1.0\n",
      "statistic   0.0\n"
     ]
    }
   ],
   "source": [
    "print(mcnemar(tabla_v1, exact=False))"
   ]
  },
  {
   "cell_type": "markdown",
   "metadata": {},
   "source": [
    "*Conclusiones:*"
   ]
  },
  {
   "cell_type": "markdown",
   "metadata": {},
   "source": [
    "P-valor mayor a 0.05\n",
    "\n",
    "La proporción de personas que cambiaron sus habitos despues de la pandemia NO es estadisticamente significantemente."
   ]
  },
  {
   "cell_type": "markdown",
   "metadata": {},
   "source": [
    "2. **Objetivo:** Analizar si los cambios los hábitos alimenticios y/ actividad física en estuadiantes fueron saludables o no.\n",
    "\n",
    "    a) **Alimentación.**\n",
    "    \n",
    "    * Variables a considerar: comidas rápida (a4),snacks (a5), bebidas azucaradas (a6), preopcupación por alimentación (a9), cambio alimentación (a10)\n",
    "        \n",
    "    * Prueba: prueba de proporciones para ver si es mayor la proporción de hábitos saludables que la de habitos poco saludables\n",
    "    \n",
    "        - H0: Los cambios de hábitos en alimentación no fueron saludables.\n",
    "        - H1: Los cambios de hábitos en alimentación fueron saludables.\n",
    "            \n",
    "    b) **Actividad física.**\n",
    "    \n",
    "    * Variables a considerar: cantidad de ejercicio (b2), estar sentado (b3), preocupación por actividad física (b6)\n",
    "    \n",
    "    * Prueba: prueba de proporciones para ver si es mayor la proporción de personas que aumentaron su actividad física que las que no.\n",
    "    \n",
    "        - H0: Los cambios de hábitos en de actividad física no mejoraron. \n",
    "        - H1: Los cambios de hábitos en de actividad física mejoraron."
   ]
  },
  {
   "cell_type": "markdown",
   "metadata": {},
   "source": [
    "### Prueba Z de proporciones "
   ]
  },
  {
   "cell_type": "markdown",
   "metadata": {},
   "source": [
    "**Alimentación.**"
   ]
  },
  {
   "cell_type": "code",
   "execution_count": 25,
   "metadata": {},
   "outputs": [],
   "source": [
    "from statsmodels.stats.proportion import proportions_ztest"
   ]
  },
  {
   "cell_type": "code",
   "execution_count": 26,
   "metadata": {},
   "outputs": [
    {
     "name": "stdout",
     "output_type": "stream",
     "text": [
      "7.719755606650315e-05\n"
     ]
    }
   ],
   "source": [
    "count = df_numeric['s1'][df_numeric['s1'] <= 22].count()+df_numeric['s1'][df_numeric['s1'] >= 31].count()\n",
    "nobs = 195\n",
    "stat, pval = proportions_ztest(count, nobs, value = 0.50, alternative = 'larger')\n",
    "print(pval)"
   ]
  },
  {
   "cell_type": "markdown",
   "metadata": {},
   "source": [
    "*Conclusiones:*"
   ]
  },
  {
   "cell_type": "markdown",
   "metadata": {},
   "source": [
    "P-value menor a 0.05\n",
    "\n",
    "La proporción de personas que han cambiado sus hábitos alimenticios es significativamente mayor al 50%"
   ]
  },
  {
   "cell_type": "markdown",
   "metadata": {},
   "source": [
    "**Actividad física.**"
   ]
  },
  {
   "cell_type": "code",
   "execution_count": 27,
   "metadata": {},
   "outputs": [
    {
     "name": "stdout",
     "output_type": "stream",
     "text": [
      "0.01227051972583473\n"
     ]
    }
   ],
   "source": [
    "count = df_numeric['v2'][df_numeric['v2'] == 'Positivo'].count()+df_numeric['v2'][df_numeric['v2'] == 'Negativo'].count()\n",
    "nobs = 195\n",
    "stat, pval = proportions_ztest(count, nobs, value = 0.50, alternative = 'larger')\n",
    "print(pval)"
   ]
  },
  {
   "cell_type": "markdown",
   "metadata": {},
   "source": [
    "*Conclusiones:*"
   ]
  },
  {
   "cell_type": "markdown",
   "metadata": {},
   "source": [
    "P-value menor a 0.05\n",
    "\n",
    "La proporción de personas que han cambiado sus hábitos de actividad fisica es significativamente mayor al 50%"
   ]
  },
  {
   "cell_type": "markdown",
   "metadata": {},
   "source": [
    "### Pruebas de independencia para tablas de contingencia con ChiCuadrada."
   ]
  },
  {
   "cell_type": "markdown",
   "metadata": {},
   "source": [
    "3. **Objetivo:** Analizar si el cambio de alimentación dependía de la ansiedad.\n",
    "    \n",
    "    * Variables a considerar: a2, a4, a5, a6, a9, a11\n",
    "        \n",
    "    * Prueba: prueba de chi cuadrada, ya que mide la relación entre una variable dependiente e independiente.\n",
    "        \n",
    "        - **H0:** El cambio de alimentación NO depende de si tuvo más ansiedad \n",
    "\n",
    "        - **H1:** El cambio de alimentación depende de si tuvo más ansiedad"
   ]
  },
  {
   "cell_type": "markdown",
   "metadata": {},
   "source": [
    "#### Alimentación."
   ]
  },
  {
   "cell_type": "code",
   "execution_count": 28,
   "metadata": {},
   "outputs": [],
   "source": [
    "df_numeric['s2'] = df_numeric['s1']"
   ]
  },
  {
   "cell_type": "code",
   "execution_count": 29,
   "metadata": {},
   "outputs": [],
   "source": [
    "df_numeric['s2'].replace(to_replace = list(range(13,40)), value = list(np.repeat(np.array([\"Positivo\", 'Neutral', \"Negativo\"]), [10,8,9], axis=0)), inplace = True)"
   ]
  },
  {
   "cell_type": "code",
   "execution_count": 30,
   "metadata": {},
   "outputs": [],
   "source": [
    "from scipy.stats import chi2_contingency"
   ]
  },
  {
   "cell_type": "code",
   "execution_count": 31,
   "metadata": {},
   "outputs": [],
   "source": [
    "table_a2 = pd.crosstab(df_numeric['s2'], df_numeric['a2'])"
   ]
  },
  {
   "cell_type": "code",
   "execution_count": 32,
   "metadata": {},
   "outputs": [
    {
     "data": {
      "text/html": [
       "<div>\n",
       "<style scoped>\n",
       "    .dataframe tbody tr th:only-of-type {\n",
       "        vertical-align: middle;\n",
       "    }\n",
       "\n",
       "    .dataframe tbody tr th {\n",
       "        vertical-align: top;\n",
       "    }\n",
       "\n",
       "    .dataframe thead th {\n",
       "        text-align: right;\n",
       "    }\n",
       "</style>\n",
       "<table border=\"1\" class=\"dataframe\">\n",
       "  <thead>\n",
       "    <tr style=\"text-align: right;\">\n",
       "      <th>a2</th>\n",
       "      <th>De acuerdo</th>\n",
       "      <th>Desacuerdo</th>\n",
       "      <th>Ni en desacuerdo ni de acuerdo</th>\n",
       "    </tr>\n",
       "    <tr>\n",
       "      <th>s2</th>\n",
       "      <th></th>\n",
       "      <th></th>\n",
       "      <th></th>\n",
       "    </tr>\n",
       "  </thead>\n",
       "  <tbody>\n",
       "    <tr>\n",
       "      <th>Negativo</th>\n",
       "      <td>28</td>\n",
       "      <td>5</td>\n",
       "      <td>14</td>\n",
       "    </tr>\n",
       "    <tr>\n",
       "      <th>Neutral</th>\n",
       "      <td>36</td>\n",
       "      <td>14</td>\n",
       "      <td>22</td>\n",
       "    </tr>\n",
       "    <tr>\n",
       "      <th>Positivo</th>\n",
       "      <td>43</td>\n",
       "      <td>18</td>\n",
       "      <td>15</td>\n",
       "    </tr>\n",
       "  </tbody>\n",
       "</table>\n",
       "</div>"
      ],
      "text/plain": [
       "a2        De acuerdo  Desacuerdo  Ni en desacuerdo ni de acuerdo\n",
       "s2                                                              \n",
       "Negativo          28           5                              14\n",
       "Neutral           36          14                              22\n",
       "Positivo          43          18                              15"
      ]
     },
     "execution_count": 32,
     "metadata": {},
     "output_type": "execute_result"
    }
   ],
   "source": [
    "table_a2"
   ]
  },
  {
   "cell_type": "code",
   "execution_count": 33,
   "metadata": {},
   "outputs": [],
   "source": [
    "stat, p, dof, expected = chi2_contingency(table_a2)"
   ]
  },
  {
   "cell_type": "code",
   "execution_count": 34,
   "metadata": {},
   "outputs": [
    {
     "data": {
      "text/plain": [
       "0.2745521819728684"
      ]
     },
     "execution_count": 34,
     "metadata": {},
     "output_type": "execute_result"
    }
   ],
   "source": [
    "p"
   ]
  },
  {
   "cell_type": "markdown",
   "metadata": {},
   "source": [
    "*Conclusiones:*"
   ]
  },
  {
   "cell_type": "markdown",
   "metadata": {},
   "source": [
    "P-valor mayor a 0.05\n",
    "\n",
    "No hay evidencia de dependencia en las variables Puntaje de cambios alimenticios y Ansiedad"
   ]
  },
  {
   "cell_type": "markdown",
   "metadata": {},
   "source": [
    "4. **Objetivo:** Analizar si el cambio de alimentación dependía del cambio de horarios de comida.\n",
    "    \n",
    "    * Variables a considerar: a1, a4, a5, a6, a9, a11\n",
    "        \n",
    "    * Prueba: prueba de chi cuadrada, ya que mide la relación entre una variable dependiente e independiente.\n",
    "        \n",
    "        - **H0:** El cambio de alimentación NO depende de si hubo cambios de horarios de comida \n",
    "\n",
    "        - **H1:** El cambio de alimentación depende de si hubo cambios de horarios de comida"
   ]
  },
  {
   "cell_type": "code",
   "execution_count": 35,
   "metadata": {},
   "outputs": [],
   "source": [
    "tabla_a1 = pd.crosstab(df_numeric['s2'], df_numeric['a1'])"
   ]
  },
  {
   "cell_type": "code",
   "execution_count": 36,
   "metadata": {},
   "outputs": [
    {
     "data": {
      "text/html": [
       "<div>\n",
       "<style scoped>\n",
       "    .dataframe tbody tr th:only-of-type {\n",
       "        vertical-align: middle;\n",
       "    }\n",
       "\n",
       "    .dataframe tbody tr th {\n",
       "        vertical-align: top;\n",
       "    }\n",
       "\n",
       "    .dataframe thead th {\n",
       "        text-align: right;\n",
       "    }\n",
       "</style>\n",
       "<table border=\"1\" class=\"dataframe\">\n",
       "  <thead>\n",
       "    <tr style=\"text-align: right;\">\n",
       "      <th>a1</th>\n",
       "      <th>De acuerdo</th>\n",
       "      <th>Desacuerdo</th>\n",
       "      <th>Ni en desacuerdo ni de acuerdo</th>\n",
       "    </tr>\n",
       "    <tr>\n",
       "      <th>s2</th>\n",
       "      <th></th>\n",
       "      <th></th>\n",
       "      <th></th>\n",
       "    </tr>\n",
       "  </thead>\n",
       "  <tbody>\n",
       "    <tr>\n",
       "      <th>Negativo</th>\n",
       "      <td>31</td>\n",
       "      <td>7</td>\n",
       "      <td>9</td>\n",
       "    </tr>\n",
       "    <tr>\n",
       "      <th>Neutral</th>\n",
       "      <td>35</td>\n",
       "      <td>15</td>\n",
       "      <td>22</td>\n",
       "    </tr>\n",
       "    <tr>\n",
       "      <th>Positivo</th>\n",
       "      <td>42</td>\n",
       "      <td>14</td>\n",
       "      <td>20</td>\n",
       "    </tr>\n",
       "  </tbody>\n",
       "</table>\n",
       "</div>"
      ],
      "text/plain": [
       "a1        De acuerdo  Desacuerdo  Ni en desacuerdo ni de acuerdo\n",
       "s2                                                              \n",
       "Negativo          31           7                               9\n",
       "Neutral           35          15                              22\n",
       "Positivo          42          14                              20"
      ]
     },
     "execution_count": 36,
     "metadata": {},
     "output_type": "execute_result"
    }
   ],
   "source": [
    "tabla_a1"
   ]
  },
  {
   "cell_type": "code",
   "execution_count": 37,
   "metadata": {},
   "outputs": [],
   "source": [
    "stat, p, dof, expected = chi2_contingency(tabla_a1)"
   ]
  },
  {
   "cell_type": "code",
   "execution_count": 38,
   "metadata": {},
   "outputs": [
    {
     "data": {
      "text/plain": [
       "0.47715646602762296"
      ]
     },
     "execution_count": 38,
     "metadata": {},
     "output_type": "execute_result"
    }
   ],
   "source": [
    "p"
   ]
  },
  {
   "cell_type": "markdown",
   "metadata": {},
   "source": [
    "*Conclusiones:*"
   ]
  },
  {
   "cell_type": "markdown",
   "metadata": {},
   "source": [
    "P-valor mayor a 0.05\n",
    "\n",
    "No hay evidencia de dependencia en las variables Puntaje de cambios alimenticios y Cambios en horarios de comida"
   ]
  },
  {
   "cell_type": "markdown",
   "metadata": {},
   "source": [
    "5. **Objetivo:** Analizar si el cambio de alimentación dependía del tiempo libre para preparar comida\n",
    "    \n",
    "    * Variables a considerar: a4, a5, a6, a8, a9, a11\n",
    "        \n",
    "    * Prueba: prueba de chi cuadrada, ya que mide la relación entre una variable dependiente e independiente.\n",
    "        \n",
    "        - **H0:** El cambio de alimentación NO depende de si tuvo más tiempo libre para preparar comida\n",
    "\n",
    "        - **H1:** El cambio de alimentación depende de si tuvo más tiempo libre para preparar comida"
   ]
  },
  {
   "cell_type": "code",
   "execution_count": 39,
   "metadata": {},
   "outputs": [],
   "source": [
    "tabla_a8 = pd.crosstab(df_numeric['s2'], df_numeric['a8'])"
   ]
  },
  {
   "cell_type": "code",
   "execution_count": 40,
   "metadata": {},
   "outputs": [
    {
     "data": {
      "text/html": [
       "<div>\n",
       "<style scoped>\n",
       "    .dataframe tbody tr th:only-of-type {\n",
       "        vertical-align: middle;\n",
       "    }\n",
       "\n",
       "    .dataframe tbody tr th {\n",
       "        vertical-align: top;\n",
       "    }\n",
       "\n",
       "    .dataframe thead th {\n",
       "        text-align: right;\n",
       "    }\n",
       "</style>\n",
       "<table border=\"1\" class=\"dataframe\">\n",
       "  <thead>\n",
       "    <tr style=\"text-align: right;\">\n",
       "      <th>a8</th>\n",
       "      <th>De acuerdo</th>\n",
       "      <th>Desacuerdo</th>\n",
       "      <th>Ni en desacuerdo ni de acuerdo</th>\n",
       "    </tr>\n",
       "    <tr>\n",
       "      <th>s2</th>\n",
       "      <th></th>\n",
       "      <th></th>\n",
       "      <th></th>\n",
       "    </tr>\n",
       "  </thead>\n",
       "  <tbody>\n",
       "    <tr>\n",
       "      <th>Negativo</th>\n",
       "      <td>12</td>\n",
       "      <td>14</td>\n",
       "      <td>21</td>\n",
       "    </tr>\n",
       "    <tr>\n",
       "      <th>Neutral</th>\n",
       "      <td>30</td>\n",
       "      <td>11</td>\n",
       "      <td>31</td>\n",
       "    </tr>\n",
       "    <tr>\n",
       "      <th>Positivo</th>\n",
       "      <td>49</td>\n",
       "      <td>12</td>\n",
       "      <td>15</td>\n",
       "    </tr>\n",
       "  </tbody>\n",
       "</table>\n",
       "</div>"
      ],
      "text/plain": [
       "a8        De acuerdo  Desacuerdo  Ni en desacuerdo ni de acuerdo\n",
       "s2                                                              \n",
       "Negativo          12          14                              21\n",
       "Neutral           30          11                              31\n",
       "Positivo          49          12                              15"
      ]
     },
     "execution_count": 40,
     "metadata": {},
     "output_type": "execute_result"
    }
   ],
   "source": [
    "tabla_a8"
   ]
  },
  {
   "cell_type": "code",
   "execution_count": 41,
   "metadata": {},
   "outputs": [],
   "source": [
    "stat, p, dof, expected = chi2_contingency(tabla_a8)"
   ]
  },
  {
   "cell_type": "code",
   "execution_count": 42,
   "metadata": {},
   "outputs": [
    {
     "data": {
      "text/plain": [
       "0.00023625485105480105"
      ]
     },
     "execution_count": 42,
     "metadata": {},
     "output_type": "execute_result"
    }
   ],
   "source": [
    "p"
   ]
  },
  {
   "cell_type": "markdown",
   "metadata": {},
   "source": [
    "*Conclusiones:*"
   ]
  },
  {
   "cell_type": "markdown",
   "metadata": {},
   "source": [
    "P-valor menor a 0.05\n",
    "\n",
    "Hay evidencia significativa de dependencia entre las variables Puntaje de cambios alimenticios y Cambio en la cantidad de tiempo libre"
   ]
  },
  {
   "cell_type": "markdown",
   "metadata": {},
   "source": [
    "#### Actividad física."
   ]
  },
  {
   "cell_type": "markdown",
   "metadata": {},
   "source": [
    "6. **Objetivo:** Analizar si los cambios de actividad fisica dependía del cambio de rutina de ejercicio\n",
    "    \n",
    "    * Variables a considerar: b1, b2, b3, b7\n",
    "        \n",
    "    * Prueba: prueba de chi cuadrada, ya que mide la relación entre una variable dependiente e independiente.\n",
    "        \n",
    "        - **H0:** Los cambios de actividad física NO dependen del cambio de rutina de ejercicio\n",
    "\n",
    "        - **H1:** Los cambios de actividad fsica NO dependen del cambio de rutina de ejercicio"
   ]
  },
  {
   "cell_type": "code",
   "execution_count": 43,
   "metadata": {},
   "outputs": [],
   "source": [
    "tabla_b1 = pd.crosstab(df_numeric['v2'], df_numeric['b1'])"
   ]
  },
  {
   "cell_type": "code",
   "execution_count": 44,
   "metadata": {},
   "outputs": [
    {
     "data": {
      "text/html": [
       "<div>\n",
       "<style scoped>\n",
       "    .dataframe tbody tr th:only-of-type {\n",
       "        vertical-align: middle;\n",
       "    }\n",
       "\n",
       "    .dataframe tbody tr th {\n",
       "        vertical-align: top;\n",
       "    }\n",
       "\n",
       "    .dataframe thead th {\n",
       "        text-align: right;\n",
       "    }\n",
       "</style>\n",
       "<table border=\"1\" class=\"dataframe\">\n",
       "  <thead>\n",
       "    <tr style=\"text-align: right;\">\n",
       "      <th>b1</th>\n",
       "      <th>De acuerdo</th>\n",
       "      <th>Desacuerdo</th>\n",
       "      <th>Ni desacuerdo ni de acuerdo</th>\n",
       "    </tr>\n",
       "    <tr>\n",
       "      <th>v2</th>\n",
       "      <th></th>\n",
       "      <th></th>\n",
       "      <th></th>\n",
       "    </tr>\n",
       "  </thead>\n",
       "  <tbody>\n",
       "    <tr>\n",
       "      <th>Negativo</th>\n",
       "      <td>34</td>\n",
       "      <td>13</td>\n",
       "      <td>10</td>\n",
       "    </tr>\n",
       "    <tr>\n",
       "      <th>Neutral</th>\n",
       "      <td>32</td>\n",
       "      <td>8</td>\n",
       "      <td>42</td>\n",
       "    </tr>\n",
       "    <tr>\n",
       "      <th>Positivo</th>\n",
       "      <td>44</td>\n",
       "      <td>4</td>\n",
       "      <td>8</td>\n",
       "    </tr>\n",
       "  </tbody>\n",
       "</table>\n",
       "</div>"
      ],
      "text/plain": [
       "b1        De acuerdo  Desacuerdo  Ni desacuerdo ni de acuerdo\n",
       "v2                                                           \n",
       "Negativo          34          13                           10\n",
       "Neutral           32           8                           42\n",
       "Positivo          44           4                            8"
      ]
     },
     "execution_count": 44,
     "metadata": {},
     "output_type": "execute_result"
    }
   ],
   "source": [
    "tabla_b1"
   ]
  },
  {
   "cell_type": "code",
   "execution_count": 45,
   "metadata": {},
   "outputs": [],
   "source": [
    "stat, p, dof, expected = chi2_contingency(tabla_b1)"
   ]
  },
  {
   "cell_type": "code",
   "execution_count": 46,
   "metadata": {},
   "outputs": [
    {
     "data": {
      "text/plain": [
       "4.329813193308304e-07"
      ]
     },
     "execution_count": 46,
     "metadata": {},
     "output_type": "execute_result"
    }
   ],
   "source": [
    "p"
   ]
  },
  {
   "cell_type": "markdown",
   "metadata": {},
   "source": [
    "*Conclusiones:*"
   ]
  },
  {
   "cell_type": "markdown",
   "metadata": {},
   "source": [
    "P-valor menor a 0.05\n",
    "\n",
    "Hay evidencia significativa de dependencia entre las variables Puntaje de cambios de actividad física y Cambio de rutina"
   ]
  },
  {
   "cell_type": "markdown",
   "metadata": {},
   "source": [
    "7. **Objetivo:** Analizar si los cambios de actividad física dependía del Cambio en la cantidad de tiempo libre\n",
    "    \n",
    "    * Variables a considerar: b2, b3, b4, b7\n",
    "        \n",
    "    * Prueba: prueba de chi cuadrada, ya que mide la relación entre una variable dependiente e independiente.\n",
    "        \n",
    "        - **H0:** Los cambios de actividad física NO dependen del Cambio en la cantidad de tiempo libre\n",
    "\n",
    "        - **H1:** Los cambios de actividad física NO dependen del Cambio en la cantidad de tiempo libre"
   ]
  },
  {
   "cell_type": "code",
   "execution_count": 47,
   "metadata": {},
   "outputs": [],
   "source": [
    "tabla_b4 = pd.crosstab(df_numeric['v2'], df_numeric['b4'])"
   ]
  },
  {
   "cell_type": "code",
   "execution_count": 48,
   "metadata": {},
   "outputs": [
    {
     "data": {
      "text/html": [
       "<div>\n",
       "<style scoped>\n",
       "    .dataframe tbody tr th:only-of-type {\n",
       "        vertical-align: middle;\n",
       "    }\n",
       "\n",
       "    .dataframe tbody tr th {\n",
       "        vertical-align: top;\n",
       "    }\n",
       "\n",
       "    .dataframe thead th {\n",
       "        text-align: right;\n",
       "    }\n",
       "</style>\n",
       "<table border=\"1\" class=\"dataframe\">\n",
       "  <thead>\n",
       "    <tr style=\"text-align: right;\">\n",
       "      <th>b4</th>\n",
       "      <th>De acuerdo</th>\n",
       "      <th>Desacuerdo</th>\n",
       "      <th>Ni en desacuerdo ni de acuerdo</th>\n",
       "    </tr>\n",
       "    <tr>\n",
       "      <th>v2</th>\n",
       "      <th></th>\n",
       "      <th></th>\n",
       "      <th></th>\n",
       "    </tr>\n",
       "  </thead>\n",
       "  <tbody>\n",
       "    <tr>\n",
       "      <th>Negativo</th>\n",
       "      <td>22</td>\n",
       "      <td>21</td>\n",
       "      <td>14</td>\n",
       "    </tr>\n",
       "    <tr>\n",
       "      <th>Neutral</th>\n",
       "      <td>37</td>\n",
       "      <td>15</td>\n",
       "      <td>30</td>\n",
       "    </tr>\n",
       "    <tr>\n",
       "      <th>Positivo</th>\n",
       "      <td>44</td>\n",
       "      <td>5</td>\n",
       "      <td>7</td>\n",
       "    </tr>\n",
       "  </tbody>\n",
       "</table>\n",
       "</div>"
      ],
      "text/plain": [
       "b4        De acuerdo  Desacuerdo  Ni en desacuerdo ni de acuerdo\n",
       "v2                                                              \n",
       "Negativo          22          21                              14\n",
       "Neutral           37          15                              30\n",
       "Positivo          44           5                               7"
      ]
     },
     "execution_count": 48,
     "metadata": {},
     "output_type": "execute_result"
    }
   ],
   "source": [
    "tabla_b4"
   ]
  },
  {
   "cell_type": "code",
   "execution_count": 49,
   "metadata": {},
   "outputs": [],
   "source": [
    "stat, p, dof, expected = chi2_contingency(tabla_b4)"
   ]
  },
  {
   "cell_type": "code",
   "execution_count": 50,
   "metadata": {},
   "outputs": [
    {
     "data": {
      "text/plain": [
       "9.588951990252028e-06"
      ]
     },
     "execution_count": 50,
     "metadata": {},
     "output_type": "execute_result"
    }
   ],
   "source": [
    "p"
   ]
  },
  {
   "cell_type": "markdown",
   "metadata": {},
   "source": [
    "*Conclusiones:*"
   ]
  },
  {
   "cell_type": "markdown",
   "metadata": {},
   "source": [
    "P-valor menor a 0.05\n",
    "\n",
    "Hay evidencia significativa de dependencia entre las variables Puntaje de cambios de actividad física y Cambio en la cantidad de tiempo libre"
   ]
  },
  {
   "cell_type": "markdown",
   "metadata": {},
   "source": [
    "8. **Objetivo:** Analizar si los cambios de actividad física dependía de la motivación\n",
    "    \n",
    "    * Variables a considerar: b2, b3, b5, b7\n",
    "        \n",
    "    * Prueba: prueba de chi cuadrada, ya que mide la relación entre una variable dependiente e independiente.\n",
    "        \n",
    "        - **H0:** Los cambios de actividad física NO dependen de la motivación\n",
    "        - **H1:** Los cambios de actividad física NO dependen de la motivación"
   ]
  },
  {
   "cell_type": "code",
   "execution_count": 51,
   "metadata": {},
   "outputs": [],
   "source": [
    "tabla_b5 = pd.crosstab(df_numeric['v2'], df_numeric['b5'])"
   ]
  },
  {
   "cell_type": "code",
   "execution_count": 52,
   "metadata": {},
   "outputs": [
    {
     "data": {
      "text/html": [
       "<div>\n",
       "<style scoped>\n",
       "    .dataframe tbody tr th:only-of-type {\n",
       "        vertical-align: middle;\n",
       "    }\n",
       "\n",
       "    .dataframe tbody tr th {\n",
       "        vertical-align: top;\n",
       "    }\n",
       "\n",
       "    .dataframe thead th {\n",
       "        text-align: right;\n",
       "    }\n",
       "</style>\n",
       "<table border=\"1\" class=\"dataframe\">\n",
       "  <thead>\n",
       "    <tr style=\"text-align: right;\">\n",
       "      <th>b5</th>\n",
       "      <th>1</th>\n",
       "      <th>2</th>\n",
       "      <th>3</th>\n",
       "    </tr>\n",
       "    <tr>\n",
       "      <th>v2</th>\n",
       "      <th></th>\n",
       "      <th></th>\n",
       "      <th></th>\n",
       "    </tr>\n",
       "  </thead>\n",
       "  <tbody>\n",
       "    <tr>\n",
       "      <th>Negativo</th>\n",
       "      <td>8</td>\n",
       "      <td>20</td>\n",
       "      <td>29</td>\n",
       "    </tr>\n",
       "    <tr>\n",
       "      <th>Neutral</th>\n",
       "      <td>22</td>\n",
       "      <td>43</td>\n",
       "      <td>17</td>\n",
       "    </tr>\n",
       "    <tr>\n",
       "      <th>Positivo</th>\n",
       "      <td>46</td>\n",
       "      <td>7</td>\n",
       "      <td>3</td>\n",
       "    </tr>\n",
       "  </tbody>\n",
       "</table>\n",
       "</div>"
      ],
      "text/plain": [
       "b5         1   2   3\n",
       "v2                  \n",
       "Negativo   8  20  29\n",
       "Neutral   22  43  17\n",
       "Positivo  46   7   3"
      ]
     },
     "execution_count": 52,
     "metadata": {},
     "output_type": "execute_result"
    }
   ],
   "source": [
    "tabla_b5"
   ]
  },
  {
   "cell_type": "code",
   "execution_count": 53,
   "metadata": {},
   "outputs": [],
   "source": [
    "stat, p, dof, expected = chi2_contingency(tabla_b5)"
   ]
  },
  {
   "cell_type": "code",
   "execution_count": 54,
   "metadata": {},
   "outputs": [
    {
     "data": {
      "text/plain": [
       "4.2769043410068484e-16"
      ]
     },
     "execution_count": 54,
     "metadata": {},
     "output_type": "execute_result"
    }
   ],
   "source": [
    "p"
   ]
  },
  {
   "cell_type": "markdown",
   "metadata": {},
   "source": [
    "*Conclusiones:*"
   ]
  },
  {
   "cell_type": "markdown",
   "metadata": {},
   "source": [
    "P-valor menor a 0.05\n",
    "\n",
    "Hay evidencia significativa de dependencia entre las variables Puntaje de cambios de actividad físca y Motivación"
   ]
  },
  {
   "cell_type": "markdown",
   "metadata": {},
   "source": [
    "## Pruebas de asociación de variables y causalidad"
   ]
  },
  {
   "cell_type": "markdown",
   "metadata": {},
   "source": [
    "**Creación de función:**"
   ]
  },
  {
   "cell_type": "markdown",
   "metadata": {},
   "source": [
    "### Prueba V de Cramer ajustada"
   ]
  },
  {
   "cell_type": "code",
   "execution_count": 55,
   "metadata": {},
   "outputs": [],
   "source": [
    "import scipy. stats  as stats "
   ]
  },
  {
   "cell_type": "code",
   "execution_count": 67,
   "metadata": {},
   "outputs": [],
   "source": [
    "def cramers_corrected_stat(confusion_matrix):\n",
    "    \"\"\" calculate Cramers V statistic for categorial-categorial association.\n",
    "        uses correction from Bergsma and Wicher, \n",
    "        Journal of the Korean Statistical Society 42 (2013): 323-328\n",
    "    \"\"\"\n",
    "    chi2 = stats.chi2_contingency(confusion_matrix)[0]\n",
    "    n = confusion_matrix.sum()\n",
    "    phi2 = chi2/n\n",
    "    r,k = confusion_matrix.shape\n",
    "    phi2corr = max(0, phi2 - ((k-1)*(r-1))/(n-1))    \n",
    "    rcorr = r - ((r-1)**2)/(n-1)\n",
    "    kcorr = k - ((k-1)**2)/(n-1)\n",
    "    return np.sqrt(phi2corr / min( (kcorr-1), (rcorr-1)))"
   ]
  },
  {
   "cell_type": "code",
   "execution_count": 68,
   "metadata": {},
   "outputs": [
    {
     "data": {
      "text/plain": [
       "0.2136603048161546"
      ]
     },
     "execution_count": 68,
     "metadata": {},
     "output_type": "execute_result"
    }
   ],
   "source": [
    "cramers_corrected_stat(tabla_a8.to_numpy())"
   ]
  },
  {
   "cell_type": "markdown",
   "metadata": {},
   "source": [
    "**Hábitos alimenticios**"
   ]
  },
  {
   "cell_type": "markdown",
   "metadata": {},
   "source": [
    "### Prueba Goodman-Kruskal’s Lamba"
   ]
  },
  {
   "cell_type": "code",
   "execution_count": 69,
   "metadata": {},
   "outputs": [],
   "source": [
    "from pypair.contingency import CategoricalTable"
   ]
  },
  {
   "cell_type": "code",
   "execution_count": 70,
   "metadata": {},
   "outputs": [
    {
     "data": {
      "text/plain": [
       "0.09090909090909091"
      ]
     },
     "execution_count": 70,
     "metadata": {},
     "output_type": "execute_result"
    }
   ],
   "source": [
    "tablaC_a8 = CategoricalTable(df_numeric['s2'], df_numeric['a8'])\n",
    "tablaC_a8.gk_lambda"
   ]
  },
  {
   "cell_type": "code",
   "execution_count": 71,
   "metadata": {},
   "outputs": [
    {
     "data": {
      "text/plain": [
       "0.144"
      ]
     },
     "execution_count": 71,
     "metadata": {},
     "output_type": "execute_result"
    }
   ],
   "source": [
    "tablaC_a8.gk_lambda_reversed"
   ]
  },
  {
   "cell_type": "markdown",
   "metadata": {},
   "source": [
    "**Conclusiones:**\n",
    "    \n",
    "    -Causalidad debil entre las variables Puntaje de cambios alimenticios y Cambio en la cantidad de tiempo libre\n",
    "\n",
    "    -Cambio en la cantidad de tiempo libre causa debilmente Puntaje"
   ]
  },
  {
   "cell_type": "markdown",
   "metadata": {},
   "source": [
    "**Actividad física**"
   ]
  },
  {
   "cell_type": "markdown",
   "metadata": {},
   "source": [
    "### Prueba V de Cramer ajustada"
   ]
  },
  {
   "cell_type": "code",
   "execution_count": 72,
   "metadata": {},
   "outputs": [
    {
     "data": {
      "text/plain": [
       "0.28398419230410776"
      ]
     },
     "execution_count": 72,
     "metadata": {},
     "output_type": "execute_result"
    }
   ],
   "source": [
    "cramers_corrected_stat(tabla_b1.to_numpy())"
   ]
  },
  {
   "cell_type": "markdown",
   "metadata": {},
   "source": [
    "Asociación debil entre las variables Puntaje de cambios de actividad fisica y Cambio de rutina"
   ]
  },
  {
   "cell_type": "code",
   "execution_count": 73,
   "metadata": {},
   "outputs": [
    {
     "data": {
      "text/plain": [
       "0.2521605199902538"
      ]
     },
     "execution_count": 73,
     "metadata": {},
     "output_type": "execute_result"
    }
   ],
   "source": [
    "cramers_corrected_stat(tabla_b4.to_numpy())"
   ]
  },
  {
   "cell_type": "markdown",
   "metadata": {},
   "source": [
    "Asociación debil entre las variables Puntaje de cambios de actividad fisica y Cambio en la cantidad de tiempo libre"
   ]
  },
  {
   "cell_type": "code",
   "execution_count": 74,
   "metadata": {},
   "outputs": [
    {
     "data": {
      "text/plain": [
       "0.4382646834421132"
      ]
     },
     "execution_count": 74,
     "metadata": {},
     "output_type": "execute_result"
    }
   ],
   "source": [
    "cramers_corrected_stat(tabla_b5.to_numpy())"
   ]
  },
  {
   "cell_type": "markdown",
   "metadata": {},
   "source": [
    "Asociación moderada entre las variables Puntaje de cambios de actividad fisica y Motivación"
   ]
  },
  {
   "cell_type": "markdown",
   "metadata": {},
   "source": [
    "### Prueba Goodman-Kruskal’s Lamba"
   ]
  },
  {
   "cell_type": "code",
   "execution_count": 75,
   "metadata": {},
   "outputs": [
    {
     "data": {
      "text/plain": [
       "0.10989010989010989"
      ]
     },
     "execution_count": 75,
     "metadata": {},
     "output_type": "execute_result"
    }
   ],
   "source": [
    "tablaC_b1 = CategoricalTable(df_numeric['v2'], df_numeric['b1'])\n",
    "tablaC_b1.gk_lambda"
   ]
  },
  {
   "cell_type": "code",
   "execution_count": 76,
   "metadata": {},
   "outputs": [
    {
     "data": {
      "text/plain": [
       "0.14285714285714285"
      ]
     },
     "execution_count": 76,
     "metadata": {},
     "output_type": "execute_result"
    }
   ],
   "source": [
    "tablaC_b1.gk_lambda_reversed"
   ]
  },
  {
   "cell_type": "markdown",
   "metadata": {},
   "source": [
    "Causalidad debil entre las variables Puntaje de cambios de actividad fisica y Cambio de rutina\n",
    "\n",
    "Cambio de rutina causa debilmente Puntaje"
   ]
  },
  {
   "cell_type": "code",
   "execution_count": 77,
   "metadata": {},
   "outputs": [
    {
     "data": {
      "text/plain": [
       "0.0"
      ]
     },
     "execution_count": 77,
     "metadata": {},
     "output_type": "execute_result"
    }
   ],
   "source": [
    "tablaC_b4 = CategoricalTable(df_numeric['v2'], df_numeric['b4'])\n",
    "tablaC_b4.gk_lambda"
   ]
  },
  {
   "cell_type": "code",
   "execution_count": 78,
   "metadata": {},
   "outputs": [
    {
     "data": {
      "text/plain": [
       "0.1092436974789916"
      ]
     },
     "execution_count": 78,
     "metadata": {},
     "output_type": "execute_result"
    }
   ],
   "source": [
    "tablaC_b4.gk_lambda_reversed"
   ]
  },
  {
   "cell_type": "markdown",
   "metadata": {},
   "source": [
    "Causalidad debil entre las variables Puntaje de cambios de actividad fisica y Cambio en la cantidad de tiempo libre\n",
    "\n",
    "Cambio en la cantidad de tiempo libre causa debilmente Puntaje"
   ]
  },
  {
   "cell_type": "code",
   "execution_count": 79,
   "metadata": {},
   "outputs": [
    {
     "data": {
      "text/plain": [
       "0.0"
      ]
     },
     "execution_count": 79,
     "metadata": {},
     "output_type": "execute_result"
    }
   ],
   "source": [
    "tablaC_b5 = CategoricalTable(df_numeric['v2'], df_numeric['b5'])\n",
    "tablaC_b5.gk_lambda"
   ]
  },
  {
   "cell_type": "code",
   "execution_count": 80,
   "metadata": {},
   "outputs": [
    {
     "data": {
      "text/plain": [
       "0.0"
      ]
     },
     "execution_count": 80,
     "metadata": {},
     "output_type": "execute_result"
    }
   ],
   "source": [
    "tablaC_b5.gk_lambda_reversed"
   ]
  },
  {
   "cell_type": "markdown",
   "metadata": {},
   "source": [
    "Causalidad moderada entre las variables Puntaje de cambios de actividad fisica y Motivación\n",
    "\n",
    "Puntaje causa moderadamente Motivación"
   ]
  },
  {
   "cell_type": "code",
   "execution_count": null,
   "metadata": {},
   "outputs": [],
   "source": []
  }
 ],
 "metadata": {
  "kernelspec": {
   "display_name": "Python 3 (ipykernel)",
   "language": "python",
   "name": "python3"
  },
  "language_info": {
   "codemirror_mode": {
    "name": "ipython",
    "version": 3
   },
   "file_extension": ".py",
   "mimetype": "text/x-python",
   "name": "python",
   "nbconvert_exporter": "python",
   "pygments_lexer": "ipython3",
   "version": "3.8.12"
  }
 },
 "nbformat": 4,
 "nbformat_minor": 4
}
